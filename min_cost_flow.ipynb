{
 "cells": [
  {
   "cell_type": "code",
   "execution_count": 1,
   "metadata": {},
   "outputs": [],
   "source": [
    "# importing networkx\n",
    "import networkx as nx\n",
    "\n",
    "# function to create a directed graph as specified by the input file. Edges are annotated with 'capacity' and 'weight' attributes, and nodes are annotated with 'demand' attributes\n",
    "def create_graph(infile):\n",
    "    myGraph=nx.DiGraph()\n",
    "    myFile=open(infile,'r')\n",
    "    \n",
    "    while True:\n",
    "        line = myFile.readline().strip()\n",
    "        \n",
    "        if line == \"\":\n",
    "            break\n",
    "        \n",
    "        if line[0] == 'p':                  \n",
    "            n = int(line.split()[2])\n",
    "            myGraph.add_nodes_from(range(1, n+1), demand = 0)\n",
    "            exist = [[0 for j in range(n)] for i in range(n)]\n",
    "        \n",
    "        elif line[0] == 'n':\n",
    "            myGraph.node[int(line.split()[1])]['demand'] = int(line.split()[2])\n",
    "        \n",
    "        elif line[0] == 'a':\n",
    "            line = [int(x) for x in line.split()[1:]]\n",
    "            if exist[line[0]-1][line[1]-1] == 0: \n",
    "                myGraph.add_edge(line[0], line[1], capacity = line[3], weight = line[4])\n",
    "                exist[line[0]-1][line[1]-1] = 1\n",
    "            else:\n",
    "                n = n+1\n",
    "                myGraph.add_node(n, demand = 0)\n",
    "                myGraph.add_edge(line[0], n, capacity = line[3], weight = line[4])\n",
    "                myGraph.add_edge(n, line[1], capacity = line[3], weight = 0)\n",
    "    \n",
    "    return myGraph\n",
    "    pass"
   ]
  },
  {
   "cell_type": "code",
   "execution_count": 2,
   "metadata": {},
   "outputs": [
    {
     "name": "stdout",
     "output_type": "stream",
     "text": [
      "Correct value for _40 instance: True\n",
      "Correct value for _6830 instance: True\n",
      "Correct value for _176280 instance: True\n"
     ]
    }
   ],
   "source": [
    "# Checking the correctness\n",
    "G_40 = create_graph('gte_bad.40')\n",
    "G_6830 = create_graph('gte_bad.6830')\n",
    "G_176280 = create_graph('gte_bad.176280')\n",
    "\n",
    "print (\"Correct value for _40 instance:\", nx.min_cost_flow_cost(G_40) == 52099553858)\n",
    "print (\"Correct value for _6830 instance:\", nx.min_cost_flow_cost(G_6830) == 299390431788)\n",
    "print (\"Correct value for _176280 instance:\", nx.min_cost_flow_cost(G_176280) == 510585093810)"
   ]
  },
  {
   "cell_type": "code",
   "execution_count": 3,
   "metadata": {},
   "outputs": [],
   "source": [
    "import pulp\n",
    "\n",
    "# function to compute the value of the minimum cost flow by formulating and solving the problem as an LP\n",
    "def lp_flow_value(G):\n",
    "    problem=pulp.LpProblem(\"mincostflow\", pulp.LpMinimize)\n",
    "    capacity = nx.get_edge_attributes(G, 'capacity')\n",
    "    weight = nx.get_edge_attributes(G, 'weight')\n",
    "    demand = nx.get_node_attributes(G, 'demand')\n",
    "    \n",
    "    flow = pulp.LpVariable.dicts('flow', G.edges(), 0, None, pulp.LpInteger)\n",
    "    problem += sum([weight[edge]*flow[edge] for edge in G.edges()]), \"Total Flow Cost\"\n",
    "    \n",
    "    for node in G.nodes():\n",
    "        problem += sum(flow[in_edge] for in_edge in G.in_edges(node)) - sum(flow[out_edge] for out_edge in G.out_edges(node)) == demand[node]\n",
    "    \n",
    "    for edge in G.edges():\n",
    "        problem += flow[edge] <= capacity[edge]\n",
    "    \n",
    "    problem.solve()\n",
    "    \n",
    "    return int(pulp.value(problem.objective))\n",
    "    pass"
   ]
  },
  {
   "cell_type": "code",
   "execution_count": 4,
   "metadata": {},
   "outputs": [
    {
     "name": "stdout",
     "output_type": "stream",
     "text": [
      "Correct value for _40 instance: True\n",
      "Correct value for _6830 instance: True\n",
      "Correct value for _176280 instance: True\n"
     ]
    }
   ],
   "source": [
    "print (\"Correct value for _40 instance:\", lp_flow_value(G_40) == 52099553858)\n",
    "print (\"Correct value for _6830 instance:\", lp_flow_value(G_6830) == 299390431788)\n",
    "print (\"Correct value for _176280 instance:\", lp_flow_value(G_176280) == 510585093810)"
   ]
  }
 ],
 "metadata": {
  "kernelspec": {
   "display_name": "py2.7",
   "language": "python",
   "name": "py2.7"
  },
  "language_info": {
   "codemirror_mode": {
    "name": "ipython",
    "version": 3
   },
   "file_extension": ".py",
   "mimetype": "text/x-python",
   "name": "python",
   "nbconvert_exporter": "python",
   "pygments_lexer": "ipython3",
   "version": "3.7.0"
  }
 },
 "nbformat": 4,
 "nbformat_minor": 1
}
